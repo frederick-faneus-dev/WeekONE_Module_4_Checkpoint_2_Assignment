{
 "cells": [
  {
   "cell_type": "code",
   "execution_count": 1,
   "metadata": {},
   "outputs": [
    {
     "data": {
      "image/png": "[encoded data removed]",
      "text/plain": [
       "<Figure size 432x288 with 1 Axes>"
      ]
     },
     "metadata": {
      "needs_background": "light"
     },
     "output_type": "display_data"
    }
   ],
   "source": [
    "import numpy as np\n",
    "import pandas as pd\n",
    "import matplotlib.pyplot as plt\n",
    "%matplotlib inline\n",
    "\n",
    "random_var_fish = np.random.poisson(5, 100)\n",
    "\n",
    "# Plot the same histogram for rand2.\n",
    "plt.hist(random_var_fish, bins=20, color = 'c')\n",
    "\n",
    "# Add a vertical line at the mean.\n",
    "plt.axvline(random_var_fish.mean(), color='b', linestyle='solid', linewidth=2)\n",
    "\n",
    "# Add a vertical line at one standard deviation above the mean.\n",
    "plt.axvline(random_var_fish.mean() + random_var_fish.std(), color='b', linestyle='dashed', linewidth=2)\n",
    "\n",
    "#Add a vertical line at one standard deviation below the mean.\n",
    "plt.axvline(random_var_fish.mean() - random_var_fish.std(), color='b', linestyle='dashed', linewidth=2)\n",
    "\n",
    "# Print the histogram.\n",
    "plt.show()\n",
    "\n",
    "#  *** Answer to Question 4 *** \n",
    "# Poisson distributions are useful for characterizing counts of events within some definite time or space. \n",
    "# The number of occurences usually range from 0 to infinity. \n",
    "# Therefore, the further away from zero the x-axis goes, the more the right-skewed nature of the distribution shows.\n",
    "# This means that the mean will be located towards the left of the graph, and there will be a greater number of smaller counts of events to the left of the mean and -1SD mark,\n",
    "# ... and a lesser number of higher counts of events to the right of the +1SD mark."
   ]
  },
  {
   "cell_type": "code",
   "execution_count": 2,
   "metadata": {},
   "outputs": [
    {
     "data": {
      "image/png": "[encoded data removed]",
      "text/plain": [
       "<Figure size 432x288 with 1 Axes>"
      ]
     },
     "metadata": {
      "needs_background": "light"
     },
     "output_type": "display_data"
    }
   ],
   "source": [
    "# Additionally ...\n",
    "\n",
    "import numpy as np\n",
    "import pandas as pd\n",
    "import matplotlib.pyplot as plt\n",
    "%matplotlib inline\n",
    "\n",
    "var_ONE = np.random.normal(5,.5, 100)\n",
    "var_TWO = np.random.normal(10,1, 100)\n",
    "var_THREE = var_ONE + var_TWO\n",
    "\n",
    "mean = np.mean(var_THREE)\n",
    "sd = np.std(var_THREE)\n",
    "\n",
    "plt.hist(var_THREE)\n",
    "\n",
    "plt.axvline(x=mean,color='blue')\n",
    "\n",
    "plt.axvline(x=mean+sd, color='gray')\n",
    "\n",
    "plt.axvline(x=mean-sd, color='gray')\n",
    "\n",
    "plt.show()\n",
    "\n",
    "# *** Answer to Question 5 ***\n",
    "# The histogram shows no significant skew as this graph displyas a normal distribution."
   ]
  },
  {
   "cell_type": "code",
   "execution_count": null,
   "metadata": {},
   "outputs": [],
   "source": []
  }
 ],
 "metadata": {
  "kernelspec": {
   "display_name": "Python 3",
   "language": "python",
   "name": "python3"
  },
  "language_info": {
   "codemirror_mode": {
    "name": "ipython",
    "version": 3
   },
   "file_extension": ".py",
   "mimetype": "text/x-python",
   "name": "python",
   "nbconvert_exporter": "python",
   "pygments_lexer": "ipython3",
   "version": "3.8.5"
  }
 },
 "nbformat": 4,
 "nbformat_minor": 4
}
